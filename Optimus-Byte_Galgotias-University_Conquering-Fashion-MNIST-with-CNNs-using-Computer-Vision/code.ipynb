{
 "cells": [
  {
   "cell_type": "code",
   "execution_count": 1,
   "id": "82710442-4729-4a9d-82bd-0aaedc786b79",
   "metadata": {},
   "outputs": [
    {
     "name": "stderr",
     "output_type": "stream",
     "text": [
      "2023-07-14 22:53:28.676695: I tensorflow/core/platform/cpu_feature_guard.cc:182] This TensorFlow binary is optimized to use available CPU instructions in performance-critical operations.\n",
      "To enable the following instructions: AVX2 AVX512F FMA, in other operations, rebuild TensorFlow with the appropriate compiler flags.\n",
      "/opt/intel/inteloneapi/tensorflow/latest/lib/python3.9/site-packages/scipy/__init__.py:146: UserWarning: A NumPy version >=1.16.5 and <1.23.0 is required for this version of SciPy (detected version 1.23.5\n",
      "  warnings.warn(f\"A NumPy version >={np_minversion} and <{np_maxversion}\"\n"
     ]
    }
   ],
   "source": [
    "#importing all libraries\n",
    "# pip install keras-tuner\n",
    "import tensorflow as tf\n",
    "from tensorflow import keras\n",
    "import numpy as np\n",
    "from matplotlib import pyplot\n",
    "# pip install keras-tuner\n",
    "fashion_mnist = keras.datasets.fashion_mnist"
   ]
  },
  {
   "cell_type": "code",
   "execution_count": 2,
   "id": "23f14a27-93d4-440d-808c-894a59d25f45",
   "metadata": {},
   "outputs": [
    {
     "name": "stdout",
     "output_type": "stream",
     "text": [
      "Defaulting to user installation because normal site-packages is not writeable\n",
      "Requirement already satisfied: keras-tuner in ./.local/lib/python3.9/site-packages (1.3.5)\n",
      "Requirement already satisfied: requests in /glob/development-tools/versions/oneapi/2023.1.2/oneapi/tensorflow/2.12.0/lib/python3.9/site-packages (from keras-tuner) (2.28.1)\n",
      "Requirement already satisfied: packaging in /glob/development-tools/versions/oneapi/2023.1.2/oneapi/tensorflow/2.12.0/lib/python3.9/site-packages (from keras-tuner) (22.0)\n",
      "Requirement already satisfied: kt-legacy in ./.local/lib/python3.9/site-packages (from keras-tuner) (1.0.5)\n",
      "Requirement already satisfied: charset-normalizer<3,>=2 in /glob/development-tools/versions/oneapi/2023.1.2/oneapi/tensorflow/2.12.0/lib/python3.9/site-packages (from requests->keras-tuner) (2.0.4)\n",
      "Requirement already satisfied: certifi>=2017.4.17 in /glob/development-tools/versions/oneapi/2023.1.2/oneapi/tensorflow/2.12.0/lib/python3.9/site-packages (from requests->keras-tuner) (2022.12.7)\n",
      "Requirement already satisfied: idna<4,>=2.5 in /glob/development-tools/versions/oneapi/2023.1.2/oneapi/tensorflow/2.12.0/lib/python3.9/site-packages (from requests->keras-tuner) (3.4)\n",
      "Requirement already satisfied: urllib3<1.27,>=1.21.1 in /glob/development-tools/versions/oneapi/2023.1.2/oneapi/tensorflow/2.12.0/lib/python3.9/site-packages (from requests->keras-tuner) (1.26.14)\n",
      "Note: you may need to restart the kernel to use updated packages.\n"
     ]
    }
   ],
   "source": [
    "pip install keras-tuner"
   ]
  },
  {
   "cell_type": "code",
   "execution_count": 3,
   "id": "e1210ffb-c789-4dbe-a588-948e8f058425",
   "metadata": {},
   "outputs": [],
   "source": [
    "(train_image, train_lables), (test_image, test_labels) = fashion_mnist.load_data()"
   ]
  },
  {
   "cell_type": "code",
   "execution_count": 4,
   "id": "daac66f4-2e9a-423a-b1de-34fc04a62934",
   "metadata": {},
   "outputs": [
    {
     "name": "stdout",
     "output_type": "stream",
     "text": [
      "Train: X=(60000, 28, 28), y=(60000,)\n",
      "Test: X=(10000, 28, 28), y=(10000,)\n"
     ]
    },
    {
     "data": {
      "image/png": "[encoded data removed]",
      "text/plain": [
       "<Figure size 640x480 with 9 Axes>"
      ]
     },
     "metadata": {},
     "output_type": "display_data"
    }
   ],
   "source": [
    "(train_image, train_lables), (test_image, test_labels) = fashion_mnist.load_data()\n",
    "# summarize loaded dataset\n",
    "print('Train: X=%s, y=%s' % (train_image.shape, train_lables.shape))\n",
    "print('Test: X=%s, y=%s' % (test_image.shape, test_labels.shape))\n",
    "# plot first few images\n",
    "for i in range(9):\n",
    " # define subplot\n",
    " pyplot.subplot(330 + 1 + i)\n",
    " # plot raw pixel data\n",
    " pyplot.imshow(train_image[i], cmap=pyplot.get_cmap('gray'))\n",
    "# show the figure\n",
    "pyplot.show()"
   ]
  },
  {
   "cell_type": "code",
   "execution_count": 5,
   "id": "ae339268-652e-4b4c-9650-bace4a0549a5",
   "metadata": {},
   "outputs": [],
   "source": [
    "train_image = train_image/255.0\n",
    "test_image = test_image/255.0"
   ]
  },
  {
   "cell_type": "code",
   "execution_count": 6,
   "id": "c720877e-6718-42b4-a216-e55664abe5f9",
   "metadata": {},
   "outputs": [
    {
     "data": {
      "text/plain": [
       "(28, 28)"
      ]
     },
     "execution_count": 6,
     "metadata": {},
     "output_type": "execute_result"
    }
   ],
   "source": [
    "train_image[0].shape"
   ]
  },
  {
   "cell_type": "code",
   "execution_count": 7,
   "id": "0663d7b3-0705-45cb-997c-0da114728ebe",
   "metadata": {},
   "outputs": [],
   "source": [
    "train_image = train_image.reshape(len(train_image),28,28,1)\n",
    "test_image = test_image.reshape(len(test_image),28,28,1)"
   ]
  },
  {
   "cell_type": "code",
   "execution_count": 8,
   "id": "be0b2f25-5c62-43d1-8320-f43693c59a98",
   "metadata": {},
   "outputs": [],
   "source": [
    "def build_model(hp):\n",
    "  model = keras.Sequential([\n",
    "                            keras.layers.Conv2D(filters=hp.Int(\"conv_1_filter\", min_value = 32, max_value = 128, step = 16), \n",
    "                                                kernel_size=hp.Choice(\"conv_1_kernel\", values = [3,5]), \n",
    "                                                activation='relu', \n",
    "                                                input_shape=(28, 28, 1)\n",
    "                                                ),\n",
    "                            keras.layers.Conv2D(filters=hp.Int(\"conv_2_filter\", min_value = 32, max_value = 64, step = 16), \n",
    "                                                kernel_size=hp.Choice(\"conv_2_kernel\", values = [3,5]), \n",
    "                                                activation='relu', \n",
    "                                                input_shape=(28, 28, 1)\n",
    "                                                ),\n",
    "                            keras.layers.Flatten(),\n",
    "                            keras.layers.Dense(\n",
    "                                units = hp.Int(\"dense_1_units\", min_value = 32, max_value = 128, step = 16),\n",
    "                                activation = 'relu'\n",
    "                            ),\n",
    "                            keras.layers.Dense(10, activation='softmax') #output_layer                            \n",
    "                            \n",
    "  ])\n",
    "  model.compile(optimizer = keras.optimizers.Adam(hp.Choice('learning_rate', values = [1e-2,1e-3])),\n",
    "                loss = 'sparse_categorical_crossentropy',\n",
    "                metrics = ['accuracy'])\n",
    "  return model"
   ]
  },
  {
   "cell_type": "code",
   "execution_count": 9,
   "id": "8d5e2312-09ab-4a6b-a7fd-babf7525da9d",
   "metadata": {},
   "outputs": [
    {
     "name": "stderr",
     "output_type": "stream",
     "text": [
      "/home/u194056/tmp/ipykernel_3505841/357442678.py:2: DeprecationWarning: `import kerastuner` is deprecated, please use `import keras_tuner`.\n",
      "  from kerastuner import RandomSearch\n"
     ]
    }
   ],
   "source": [
    "# pip install keras-tuner\n",
    "from kerastuner import RandomSearch\n",
    "from kerastuner.engine.hyperparameters import HyperParameters"
   ]
  },
  {
   "cell_type": "code",
   "execution_count": 10,
   "id": "d4a5b54b-c718-4060-8440-edb79e287b6d",
   "metadata": {},
   "outputs": [
    {
     "name": "stderr",
     "output_type": "stream",
     "text": [
      "2023-07-14 22:53:35.447100: I tensorflow/core/common_runtime/process_util.cc:146] Creating new thread pool with default inter op setting: \n"
     ]
    }
   ],
   "source": [
    "tuner_search = RandomSearch(build_model,\n",
    "                            objective = 'val_accuracy',\n",
    "                            max_trials = 5,\n",
    "                            directory = 'output',\n",
    "                            project_name = \"Mnist Fashion\"\n",
    "                            )"
   ]
  },
  {
   "cell_type": "code",
   "execution_count": 11,
   "id": "cd68f619-85f3-40ca-84f3-8ea191d90095",
   "metadata": {},
   "outputs": [
    {
     "name": "stdout",
     "output_type": "stream",
     "text": [
      "Defaulting to user installation because normal site-packages is not writeable\n",
      "Requirement already satisfied: keras-tuner in ./.local/lib/python3.9/site-packages (1.3.5)\n",
      "Requirement already satisfied: requests in /glob/development-tools/versions/oneapi/2023.1.2/oneapi/tensorflow/2.12.0/lib/python3.9/site-packages (from keras-tuner) (2.28.1)\n",
      "Requirement already satisfied: kt-legacy in ./.local/lib/python3.9/site-packages (from keras-tuner) (1.0.5)\n",
      "Requirement already satisfied: packaging in /glob/development-tools/versions/oneapi/2023.1.2/oneapi/tensorflow/2.12.0/lib/python3.9/site-packages (from keras-tuner) (22.0)\n",
      "Requirement already satisfied: idna<4,>=2.5 in /glob/development-tools/versions/oneapi/2023.1.2/oneapi/tensorflow/2.12.0/lib/python3.9/site-packages (from requests->keras-tuner) (3.4)\n",
      "Requirement already satisfied: urllib3<1.27,>=1.21.1 in /glob/development-tools/versions/oneapi/2023.1.2/oneapi/tensorflow/2.12.0/lib/python3.9/site-packages (from requests->keras-tuner) (1.26.14)\n",
      "Requirement already satisfied: certifi>=2017.4.17 in /glob/development-tools/versions/oneapi/2023.1.2/oneapi/tensorflow/2.12.0/lib/python3.9/site-packages (from requests->keras-tuner) (2022.12.7)\n",
      "Requirement already satisfied: charset-normalizer<3,>=2 in /glob/development-tools/versions/oneapi/2023.1.2/oneapi/tensorflow/2.12.0/lib/python3.9/site-packages (from requests->keras-tuner) (2.0.4)\n",
      "Note: you may need to restart the kernel to use updated packages.\n"
     ]
    }
   ],
   "source": [
    "pip install keras-tuner"
   ]
  },
  {
   "cell_type": "code",
   "execution_count": null,
   "id": "59686fc6-b172-4bfc-8f86-821af0f4285e",
   "metadata": {},
   "outputs": [],
   "source": []
  },
  {
   "cell_type": "code",
   "execution_count": 12,
   "id": "6ec8bb50-37fe-44d4-a28f-4fb5d372c957",
   "metadata": {},
   "outputs": [
    {
     "name": "stdout",
     "output_type": "stream",
     "text": [
      "Trial 5 Complete [00h 07m 55s]\n",
      "val_accuracy: 0.8644999861717224\n",
      "\n",
      "Best val_accuracy So Far: 0.9128333330154419\n",
      "Total elapsed time: 00h 42m 16s\n",
      "INFO:tensorflow:Oracle triggered exit\n"
     ]
    }
   ],
   "source": [
    "tuner_search.search(train_image, train_lables, epochs= 3, validation_split = 0.1)\n"
   ]
  },
  {
   "cell_type": "code",
   "execution_count": 13,
   "id": "4f45fdec-f305-48f4-9971-0437acee8430",
   "metadata": {},
   "outputs": [],
   "source": [
    "model = tuner_search.get_best_models(num_models = 1)[0]\n",
    "\n"
   ]
  },
  {
   "cell_type": "code",
   "execution_count": 14,
   "id": "25689c52-ad0b-4a7a-b62f-d0ab911cc8c8",
   "metadata": {},
   "outputs": [
    {
     "name": "stdout",
     "output_type": "stream",
     "text": [
      "Model: \"sequential\"\n",
      "_________________________________________________________________\n",
      " Layer (type)                Output Shape              Param #   \n",
      "=================================================================\n",
      " conv2d (Conv2D)             (None, 26, 26, 48)        480       \n",
      "                                                                 \n",
      " conv2d_1 (Conv2D)           (None, 22, 22, 48)        57648     \n",
      "                                                                 \n",
      " flatten (Flatten)           (None, 23232)             0         \n",
      "                                                                 \n",
      " dense (Dense)               (None, 128)               2973824   \n",
      "                                                                 \n",
      " dense_1 (Dense)             (None, 10)                1290      \n",
      "                                                                 \n",
      "=================================================================\n",
      "Total params: 3,033,242\n",
      "Trainable params: 3,033,242\n",
      "Non-trainable params: 0\n",
      "_________________________________________________________________\n"
     ]
    }
   ],
   "source": [
    "model.summary()\n"
   ]
  },
  {
   "cell_type": "code",
   "execution_count": 15,
   "id": "bdd391be-f7bf-4b98-847f-5b27d8d31aec",
   "metadata": {},
   "outputs": [
    {
     "ename": "AttributeError",
     "evalue": "'Sequential' object has no attribute 'accuracy'",
     "output_type": "error",
     "traceback": [
      "\u001b[0;31m---------------------------------------------------------------------------\u001b[0m",
      "\u001b[0;31mAttributeError\u001b[0m                            Traceback (most recent call last)",
      "Cell \u001b[0;32mIn[15], line 1\u001b[0m\n\u001b[0;32m----> 1\u001b[0m \u001b[43mmodel\u001b[49m\u001b[38;5;241;43m.\u001b[39;49m\u001b[43maccuracy\u001b[49m()\n",
      "\u001b[0;31mAttributeError\u001b[0m: 'Sequential' object has no attribute 'accuracy'"
     ]
    }
   ],
   "source": [
    "model.accuracy()"
   ]
  },
  {
   "cell_type": "code",
   "execution_count": null,
   "id": "aaf0560e-e7d6-46d1-b009-1016c4fd36c7",
   "metadata": {},
   "outputs": [],
   "source": []
  }
 ],
 "metadata": {
  "kernelspec": {
   "display_name": "Tensorflow (AI kit)",
   "language": "python",
   "name": "c009-intel_distribution_of_python_3_oneapi-beta05-tf"
  },
  "language_info": {
   "codemirror_mode": {
    "name": "ipython",
    "version": 3
   },
   "file_extension": ".py",
   "mimetype": "text/x-python",
   "name": "python",
   "nbconvert_exporter": "python",
   "pygments_lexer": "ipython3",
   "version": "3.9.16"
  }
 },
 "nbformat": 4,
 "nbformat_minor": 5
}
